{
 "cells": [
  {
   "cell_type": "code",
   "execution_count": 643,
   "metadata": {
    "collapsed": true
   },
   "outputs": [],
   "source": [
    "import numpy as np\n",
    "import matplotlib.pyplot as plt\n",
    "import random"
   ]
  },
  {
   "cell_type": "markdown",
   "source": [
    "# Задание 1\n",
    "\n",
    "Решить линейную регрессию — найти прямую, которая описывает зависимость"
   ],
   "metadata": {
    "collapsed": false,
    "pycharm": {
     "name": "#%% md\n"
    }
   }
  },
  {
   "cell_type": "markdown",
   "source": [
    "N - количество осей (размерность) <br>\n",
    "M - количество точек <br>\n",
    "minValue - минимальное значение для иксов <br>\n",
    "maxValue - максимальное значение для иксов"
   ],
   "metadata": {
    "collapsed": false,
    "pycharm": {
     "name": "#%% md\n"
    }
   }
  },
  {
   "cell_type": "code",
   "execution_count": 644,
   "outputs": [],
   "source": [
    "N = 3\n",
    "M = 10\n",
    "minValue = 0\n",
    "maxValue = 10\n",
    "EPS = 1e-6\n",
    "K = 1e-2\n"
   ],
   "metadata": {
    "collapsed": false,
    "pycharm": {
     "name": "#%%\n"
    }
   }
  },
  {
   "cell_type": "code",
   "execution_count": 645,
   "outputs": [
    {
     "name": "stdout",
     "output_type": "stream",
     "text": [
      "[2. 0. 4. 8.]\n",
      "[[ 1.  1.  8.  3.]\n",
      " [ 1.  4.  3.  1.]\n",
      " [ 1.  7.  4.  7.]\n",
      " [ 1.  7.  7.  8.]\n",
      " [ 1.  6.  9.  1.]\n",
      " [ 1.  6.  4.  2.]\n",
      " [ 1.  1.  0.  2.]\n",
      " [ 1.  9.  5.  4.]\n",
      " [ 1. 10.  8.  8.]\n",
      " [ 1.  9.  3. 10.]]\n",
      "[ 58. -41. 114. 144.  52.  16. -62.  60.  83. 115.]\n",
      "[58. 22. 74. 94. 46. 34. 18. 54. 98. 94.]\n"
     ]
    }
   ],
   "source": [
    "def yRegression(B, X):\n",
    "    return np.sum(X * B)\n",
    "\n",
    "B_reg = []\n",
    "for i in range(N + 1):\n",
    "    bi = random.randint(minValue, maxValue)\n",
    "    B_reg.append(bi)\n",
    "B_reg = np.array(B_reg, dtype='float64')\n",
    "print(B_reg)\n",
    "XM = []\n",
    "YM = []\n",
    "YR = []\n",
    "for i in range(M):\n",
    "    X = [1]\n",
    "    for j in range(N):\n",
    "        xj = random.randint(minValue, maxValue)\n",
    "        X.append(xj)\n",
    "    X = np.array(X)\n",
    "    rand_delta = random.randint(-maxValue, maxValue)\n",
    "    Y_r = yRegression(B_reg, X)\n",
    "    Y_act = Y_r + random.randint(0, 10) * rand_delta\n",
    "    YM.append(Y_act)\n",
    "    XM.append(np.array(X))\n",
    "    YR.append(Y_r)\n",
    "XM = np.array(XM, dtype='float64')\n",
    "YM = np.array(YM)\n",
    "YR = np.array(YR)\n",
    "print(XM)\n",
    "print(YM)\n",
    "print(YR)"
   ],
   "metadata": {
    "collapsed": false,
    "pycharm": {
     "name": "#%%\n"
    }
   }
  },
  {
   "cell_type": "code",
   "execution_count": 646,
   "outputs": [
    {
     "name": "stderr",
     "output_type": "stream",
     "text": [
      "/var/folders/jf/t98pfdyj3496cy7sfv395_j80000gn/T/ipykernel_3942/3306241826.py:4: RuntimeWarning: overflow encountered in double_scalars\n",
      "  error += (Y_act[i] - Y_reg[i]) ** 2\n",
      "/var/folders/jf/t98pfdyj3496cy7sfv395_j80000gn/T/ipykernel_3942/3306241826.py:8: RuntimeWarning: invalid value encountered in double_scalars\n",
      "  return abs(previous - current) < EPS\n",
      "/var/folders/jf/t98pfdyj3496cy7sfv395_j80000gn/T/ipykernel_3942/3306241826.py:16: RuntimeWarning: overflow encountered in double_scalars\n",
      "  xi *= 2\n",
      "/var/folders/jf/t98pfdyj3496cy7sfv395_j80000gn/T/ipykernel_3942/3306241826.py:32: RuntimeWarning: invalid value encountered in subtract\n",
      "  B_reg -= K * grad\n",
      "/var/folders/jf/t98pfdyj3496cy7sfv395_j80000gn/T/ipykernel_3942/1446548817.py:2: RuntimeWarning: invalid value encountered in multiply\n",
      "  return np.sum(X * B)\n"
     ]
    },
    {
     "ename": "KeyboardInterrupt",
     "evalue": "",
     "output_type": "error",
     "traceback": [
      "\u001B[0;31m---------------------------------------------------------------------------\u001B[0m",
      "\u001B[0;31mKeyboardInterrupt\u001B[0m                         Traceback (most recent call last)",
      "Input \u001B[0;32mIn [646]\u001B[0m, in \u001B[0;36m<cell line: 49>\u001B[0;34m()\u001B[0m\n\u001B[1;32m     46\u001B[0m     plt\u001B[38;5;241m.\u001B[39mplot(X, YF)\n\u001B[1;32m     47\u001B[0m     plt\u001B[38;5;241m.\u001B[39mshow()\n\u001B[0;32m---> 49\u001B[0m B_final, errors, YF \u001B[38;5;241m=\u001B[39m \u001B[43mgradientDescent\u001B[49m\u001B[43m(\u001B[49m\u001B[38;5;241;43m1\u001B[39;49m\u001B[43m,\u001B[49m\u001B[43m \u001B[49m\u001B[43mXM\u001B[49m\u001B[43m,\u001B[49m\u001B[43m \u001B[49m\u001B[43mYM\u001B[49m\u001B[43m,\u001B[49m\u001B[43m \u001B[49m\u001B[43mYR\u001B[49m\u001B[43m,\u001B[49m\u001B[43m \u001B[49m\u001B[43mB_reg\u001B[49m\u001B[43m)\u001B[49m\n\u001B[1;32m     51\u001B[0m \u001B[38;5;28mprint\u001B[39m(errors[\u001B[38;5;241m0\u001B[39m], errors[\u001B[38;5;28mlen\u001B[39m(errors) \u001B[38;5;241m-\u001B[39m \u001B[38;5;241m1\u001B[39m])\n\u001B[1;32m     52\u001B[0m drawGraph(XM, YM, YF)\n",
      "Input \u001B[0;32mIn [646]\u001B[0m, in \u001B[0;36mgradientDescent\u001B[0;34m(batch, XM, YM, YR, B_reg)\u001B[0m\n\u001B[1;32m     28\u001B[0m         nums\u001B[38;5;241m.\u001B[39madd(x)\n\u001B[1;32m     30\u001B[0m nums \u001B[38;5;241m=\u001B[39m np\u001B[38;5;241m.\u001B[39marray(\u001B[38;5;28mlist\u001B[39m(nums))\n\u001B[0;32m---> 31\u001B[0m grad \u001B[38;5;241m=\u001B[39m \u001B[43mgradient\u001B[49m\u001B[43m(\u001B[49m\u001B[43mnums\u001B[49m\u001B[43m,\u001B[49m\u001B[43m \u001B[49m\u001B[43mXM\u001B[49m\u001B[43m,\u001B[49m\u001B[43m \u001B[49m\u001B[43mYR\u001B[49m\u001B[43m,\u001B[49m\u001B[43m \u001B[49m\u001B[43mYM\u001B[49m\u001B[43m)\u001B[49m\n\u001B[1;32m     32\u001B[0m B_reg \u001B[38;5;241m-\u001B[39m\u001B[38;5;241m=\u001B[39m K \u001B[38;5;241m*\u001B[39m grad\n\u001B[1;32m     33\u001B[0m \u001B[38;5;28;01mfor\u001B[39;00m i \u001B[38;5;129;01min\u001B[39;00m \u001B[38;5;28mrange\u001B[39m(M):\n",
      "Input \u001B[0;32mIn [646]\u001B[0m, in \u001B[0;36mgradient\u001B[0;34m(nums, XM, YR, YM)\u001B[0m\n\u001B[1;32m     13\u001B[0m xi \u001B[38;5;241m=\u001B[39m \u001B[38;5;241m0\u001B[39m\n\u001B[1;32m     14\u001B[0m \u001B[38;5;28;01mfor\u001B[39;00m j \u001B[38;5;129;01min\u001B[39;00m \u001B[38;5;28mrange\u001B[39m(\u001B[38;5;28mlen\u001B[39m(nums)):\n\u001B[0;32m---> 15\u001B[0m     xi \u001B[38;5;241m+\u001B[39m\u001B[38;5;241m=\u001B[39m XM[nums[j]][i] \u001B[38;5;241m*\u001B[39m (YR[nums[j]] \u001B[38;5;241m-\u001B[39m YM[nums[j]])\n\u001B[1;32m     16\u001B[0m xi \u001B[38;5;241m*\u001B[39m\u001B[38;5;241m=\u001B[39m \u001B[38;5;241m2\u001B[39m\n\u001B[1;32m     17\u001B[0m grad\u001B[38;5;241m.\u001B[39mappend(xi)\n",
      "\u001B[0;31mKeyboardInterrupt\u001B[0m: "
     ]
    }
   ],
   "source": [
    "def squaredError(Y_act, Y_reg):\n",
    "    error = 0\n",
    "    for i in range(M):\n",
    "        error += (Y_act[i] - Y_reg[i]) ** 2\n",
    "    return error\n",
    "\n",
    "def stoppingCriteria(previous, current):\n",
    "    return abs(previous - current) < EPS\n",
    "\n",
    "def gradient(nums, XM, YR, YM):\n",
    "    grad = []\n",
    "    for i in range(N + 1):\n",
    "        xi = 0\n",
    "        for j in range(len(nums)):\n",
    "            xi += XM[nums[j]][i] * (YR[nums[j]] - YM[nums[j]])\n",
    "        xi *= 2\n",
    "        grad.append(xi)\n",
    "    return np.array(grad)\n",
    "\n",
    "def gradientDescent(batch, XM, YM, YR, B_reg):\n",
    "    previous = 0\n",
    "    errors = []\n",
    "    while True:\n",
    "        nums = set()\n",
    "        while len(nums) != batch:\n",
    "            x = random.randint(0, M - 1)\n",
    "            if x not in nums:\n",
    "                nums.add(x)\n",
    "\n",
    "        nums = np.array(list(nums))\n",
    "        grad = gradient(nums, XM, YR, YM)\n",
    "        B_reg -= K * grad\n",
    "        for i in range(M):\n",
    "            YR[i] = yRegression(B_reg, XM[i])\n",
    "        if stoppingCriteria(previous, squaredError(YM, YR)):\n",
    "            break\n",
    "        previous = squaredError(YM, YR)\n",
    "        errors.append(previous)\n",
    "    return B_reg, errors, YR\n",
    "\n",
    "def drawGraph(XM, YM, YF):\n",
    "    fig = plt.figure()\n",
    "    fig.set_size_inches(10, 10)\n",
    "    X = XM.T[1]\n",
    "    plt.scatter(X, YM)\n",
    "    plt.plot(X, YF)\n",
    "    plt.show()\n",
    "\n",
    "B_final, errors, YF = gradientDescent(1, XM, YM, YR, B_reg)\n",
    "\n",
    "print(errors[0], errors[len(errors) - 1])\n",
    "drawGraph(XM, YM, YF)"
   ],
   "metadata": {
    "collapsed": false,
    "pycharm": {
     "name": "#%%\n"
    }
   }
  },
  {
   "cell_type": "markdown",
   "source": [
    "# Задание 2"
   ],
   "metadata": {
    "collapsed": false,
    "pycharm": {
     "name": "#%% md\n"
    }
   }
  },
  {
   "cell_type": "code",
   "execution_count": null,
   "outputs": [],
   "source": [
    "def ZNormalization(XM):\n",
    "    X = XM.T\n",
    "    for i in range(1, N + 1):\n",
    "        X[i] = (X[i] - np.mean(X[i])) / np.std(X[i])\n",
    "    return X.T\n",
    "\n",
    "# print(XM)\n",
    "X_norm = ZNormalization(XM)\n",
    "Y_norm = (YM - np.mean(YM)) / np.std(YM)\n",
    "B_norm = (B_reg - np.mean(B_reg)) / np.std(B_reg)\n",
    "BF_norm, errors_norm, YF_norm = gradientDescent(1, X_norm, Y_norm, YR, B_norm)\n",
    "\n",
    "print(errors_norm[0], errors_norm[len(errors_norm) - 1])\n",
    "drawGraph(X_norm, Y_norm, YF_norm)"
   ],
   "metadata": {
    "collapsed": false,
    "pycharm": {
     "name": "#%%\n"
    }
   }
  }
 ],
 "metadata": {
  "kernelspec": {
   "display_name": "Python 3",
   "language": "python",
   "name": "python3"
  },
  "language_info": {
   "codemirror_mode": {
    "name": "ipython",
    "version": 2
   },
   "file_extension": ".py",
   "mimetype": "text/x-python",
   "name": "python",
   "nbconvert_exporter": "python",
   "pygments_lexer": "ipython2",
   "version": "2.7.6"
  }
 },
 "nbformat": 4,
 "nbformat_minor": 0
}