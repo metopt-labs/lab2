{
 "cells": [
  {
   "cell_type": "code",
   "execution_count": 362,
   "metadata": {
    "collapsed": true
   },
   "outputs": [],
   "source": [
    "import numpy as np\n",
    "import matplotlib.pyplot as plt\n",
    "import random"
   ]
  },
  {
   "cell_type": "markdown",
   "source": [
    "# Задание 1\n",
    "\n",
    "Решить линейную регрессию — найти прямую, которая описывает зависимость"
   ],
   "metadata": {
    "collapsed": false,
    "pycharm": {
     "name": "#%% md\n"
    }
   }
  },
  {
   "cell_type": "markdown",
   "source": [
    "N - количество осей (размерность) <br>\n",
    "M - количество точек <br>\n",
    "minValue - минимальное значение для иксов <br>\n",
    "maxValue - максимальное значение для иксов"
   ],
   "metadata": {
    "collapsed": false,
    "pycharm": {
     "name": "#%% md\n"
    }
   }
  },
  {
   "cell_type": "code",
   "execution_count": 363,
   "outputs": [],
   "source": [
    "N = 1\n",
    "M = 10\n",
    "minValue = 0\n",
    "maxValue = 10\n",
    "STEPS = 1e3\n",
    "EPS = 1e-6\n",
    "K = 1e-2\n"
   ],
   "metadata": {
    "collapsed": false,
    "pycharm": {
     "name": "#%%\n"
    }
   }
  },
  {
   "cell_type": "code",
   "execution_count": 364,
   "outputs": [
    {
     "name": "stdout",
     "output_type": "stream",
     "text": [
      "[10.  7.]\n",
      "[[ 1  9]\n",
      " [ 1  2]\n",
      " [ 1  4]\n",
      " [ 1  5]\n",
      " [ 1 10]\n",
      " [ 1 10]\n",
      " [ 1  2]\n",
      " [ 1  8]\n",
      " [ 1  8]\n",
      " [ 1  4]]\n",
      "[113.  88. -11.  95. 160.  80.  21. 106.  51.  53.]\n",
      "[73. 24. 38. 45. 80. 80. 24. 66. 66. 38.]\n"
     ]
    }
   ],
   "source": [
    "def yRegression(B, X):\n",
    "    return np.sum(X * B)\n",
    "\n",
    "B_reg = []\n",
    "for i in range(N + 1):\n",
    "    bi = random.randint(minValue, maxValue)\n",
    "    B_reg.append(bi)\n",
    "B_reg = np.array(B_reg, dtype='float64')\n",
    "print(B_reg)\n",
    "XM = []\n",
    "YM = []\n",
    "YR = []\n",
    "for i in range(M):\n",
    "    X = [1]\n",
    "    for j in range(N):\n",
    "        xj = random.randint(minValue, maxValue)\n",
    "        X.append(xj)\n",
    "    X = np.array(X)\n",
    "    rand_delta = random.randint(-maxValue, maxValue)\n",
    "    Y_r = yRegression(B_reg, X)\n",
    "    Y_act = Y_r + random.randint(0, 10) * rand_delta\n",
    "    YM.append(Y_act)\n",
    "    XM.append(np.array(X))\n",
    "    YR.append(Y_r)\n",
    "XM = np.array(XM)\n",
    "YM = np.array(YM)\n",
    "YR = np.array(YR)\n",
    "print(XM)\n",
    "print(YM)\n",
    "print(YR)"
   ],
   "metadata": {
    "collapsed": false,
    "pycharm": {
     "name": "#%%\n"
    }
   }
  },
  {
   "cell_type": "code",
   "execution_count": 365,
   "outputs": [
    {
     "name": "stdout",
     "output_type": "stream",
     "text": [
      "0 21011.199999999997\n",
      "21011.199999999997 13932.41088\n",
      "13932.41088 16075.907842048004\n",
      "16075.907842048004 13726.384046918862\n",
      "13726.384046918862 14829.619196935722\n",
      "14829.619196935722 13959.520252621505\n",
      "13959.520252621505 14449.197524557523\n",
      "14449.197524557523 14108.284663445158\n",
      "14108.284663445158 14315.196945419844\n",
      "14315.196945419844 14178.156094589436\n",
      "14178.156094589436 14263.971119866734\n",
      "14263.971119866734 14208.274901242758\n",
      "14208.274901242758 14243.603204000014\n",
      "14243.603204000014 14220.863133509774\n",
      "14220.863133509774 14235.363548348729\n",
      "14235.363548348729 14226.06147973124\n",
      "14226.06147973124 14232.00587308825\n",
      "14232.00587308825 14228.197803383136\n",
      "14228.197803383136 14230.633469695375\n",
      "14230.633469695375 14229.074029552252\n",
      "14229.074029552252 14230.071819870991\n",
      "14230.071819870991 14229.43313110467\n",
      "14229.43313110467 14229.841849741742\n",
      "14229.841849741742 14229.580252539805\n",
      "14229.580252539805 14229.74766767353\n",
      "14229.74766767353 14229.640519089813\n",
      "14229.640519089813 14229.709092996316\n",
      "14229.709092996316 14229.665205209929\n",
      "14229.665205209929 14229.693293194061\n",
      "14229.693293194061 14229.67531680264\n",
      "14229.67531680264 14229.686821659738\n",
      "14229.686821659738 14229.679458537508\n",
      "14229.679458537508 14229.68417093013\n",
      "14229.68417093013 14229.681154996553\n",
      "14229.681154996553 14229.6830851931\n",
      "14229.6830851931 14229.681849866929\n",
      "14229.681849866929 14229.682640475517\n",
      "14229.682640475517 14229.682134485955\n",
      "14229.682134485955 14229.68245831925\n",
      "14229.68245831925 14229.68225106593\n",
      "14229.68225106593 14229.682383708052\n",
      "14229.682383708052 14229.68229881709\n",
      "14229.68229881709 14229.682353147306\n",
      "14229.682353147306 14229.682318375966\n",
      "14229.682318375966 14229.682340629623\n",
      "14229.682340629623 14229.682326387283\n",
      "14229.682326387283 14229.682335502384\n",
      "14229.682335502384 14229.68232966872\n",
      "14229.68232966872 14229.682333402263\n",
      "14229.682333402263 14229.682331012798\n",
      "14229.682331012798 14229.68233254205\n",
      "14229.68233254205 14229.682331563332\n",
      "actual= [113.  88. -11.  95. 160.  80.  21. 106.  51.  53.]\n",
      "starting= [113.          33.26829268  56.04878049  67.43902439 124.3902439\n",
      " 124.3902439   33.26829268 101.60975609 101.60975609  56.04878049]\n",
      "regression= [112.99999999666252, 33.268292682153515, 56.04878048629895, 67.43902438837166, 124.39024389873525, 124.39024389873525, 33.268292682153515, 101.60975609458981, 101.60975609458981, 56.04878048629895]\n"
     ]
    },
    {
     "data": {
      "text/plain": "<Figure size 720x720 with 1 Axes>",
      "image/png": "[encoded data removed]"
     },
     "metadata": {
      "needs_background": "light"
     },
     "output_type": "display_data"
    }
   ],
   "source": [
    "def squaredError(Y_act, Y_reg):\n",
    "    error = 0\n",
    "    for i in range(M):\n",
    "        error += (Y_act[i] - Y_reg[i]) ** 2\n",
    "    return error\n",
    "\n",
    "def stoppingCriteria(previous, current):\n",
    "    return abs(previous - current) < EPS\n",
    "\n",
    "def gradient(nums, XM, YR, YM):\n",
    "    grad = []\n",
    "    for i in range(N + 1):\n",
    "        xi = 0\n",
    "        for j in range(len(nums)):\n",
    "            xi += XM[nums[j]][i] * (YR[nums[j]] - YM[nums[j]])\n",
    "        xi *= 2\n",
    "        grad.append(xi)\n",
    "    # print(grad)\n",
    "    return np.array(grad)\n",
    "\n",
    "def gradientDescent(batch, XM, YM, YR, B_reg):\n",
    "    previous = 0\n",
    "    while True:\n",
    "        nums = set()\n",
    "        while len(nums) != batch:\n",
    "            x = random.randint(0, N - 1)\n",
    "            if x not in nums:\n",
    "                nums.add(x)\n",
    "\n",
    "        nums = np.array(list(nums))\n",
    "        # print(nums)\n",
    "        grad = gradient(nums, XM, YR, YM)\n",
    "        # print(grad)\n",
    "        B_reg -= K * grad\n",
    "        # print(B_reg)\n",
    "        for i in range(M):\n",
    "            YR[i] = yRegression(B_reg, XM[i])\n",
    "        print(previous, squaredError(YM, YR))\n",
    "        if stoppingCriteria(previous, squaredError(YM, YR)):\n",
    "            break\n",
    "        previous = squaredError(YM, YR)\n",
    "    return B_reg\n",
    "\n",
    "B_final = gradientDescent(1, XM, YM, YR, B_reg)\n",
    "YF = []\n",
    "for i in range(M):\n",
    "    y_fi = yRegression(B_final, XM[i])\n",
    "    YF.append(y_fi)\n",
    "print(\"actual=\", YM)\n",
    "print(\"starting=\", YR)\n",
    "print(\"regression=\", YF)\n",
    "\n",
    "def drawGraph(XM, YM, YF):\n",
    "    fig = plt.figure()\n",
    "    fig.set_size_inches(10, 10)\n",
    "    X = XM.T[1]\n",
    "    plt.scatter(X, YM)\n",
    "    plt.plot(X, YF)\n",
    "    plt.show()\n",
    "\n",
    "drawGraph(XM, YM, YF)"
   ],
   "metadata": {
    "collapsed": false,
    "pycharm": {
     "name": "#%%\n"
    }
   }
  }
 ],
 "metadata": {
  "kernelspec": {
   "display_name": "Python 3",
   "language": "python",
   "name": "python3"
  },
  "language_info": {
   "codemirror_mode": {
    "name": "ipython",
    "version": 2
   },
   "file_extension": ".py",
   "mimetype": "text/x-python",
   "name": "python",
   "nbconvert_exporter": "python",
   "pygments_lexer": "ipython2",
   "version": "2.7.6"
  }
 },
 "nbformat": 4,
 "nbformat_minor": 0
}