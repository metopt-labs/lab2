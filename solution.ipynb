{
 "cells": [
  {
   "cell_type": "code",
   "execution_count": 546,
   "metadata": {
    "collapsed": true
   },
   "outputs": [],
   "source": [
    "import numpy as np\n",
    "import matplotlib.pyplot as plt\n",
    "import random\n",
    "import enum"
   ]
  },
  {
   "cell_type": "markdown",
   "source": [
    "# Задание 1\n",
    "\n",
    "Решить линейную регрессию — найти прямую, которая описывает зависимость"
   ],
   "metadata": {
    "collapsed": false,
    "pycharm": {
     "name": "#%% md\n"
    }
   }
  },
  {
   "cell_type": "markdown",
   "source": [
    "N - количество осей (размерность) <br>\n",
    "M - количество точек <br>\n",
    "minValue - минимальное значение для иксов <br>\n",
    "maxValue - максимальное значение для иксов"
   ],
   "metadata": {
    "collapsed": false,
    "pycharm": {
     "name": "#%% md\n"
    }
   }
  },
  {
   "cell_type": "code",
   "execution_count": 547,
   "outputs": [],
   "source": [
    "N = 1\n",
    "M = 30\n",
    "minValue = 0\n",
    "maxValue = 5\n",
    "EPS = 1e-5\n",
    "K = 1e-3\n",
    "\n",
    "class TypeOfOptimisation(enum.Enum):\n",
    "    momentum = 0\n",
    "    nesterov = 1\n",
    "    RMSProp = 2\n",
    "    AdaGrad = 3\n",
    "    none = 4\n"
   ],
   "metadata": {
    "collapsed": false,
    "pycharm": {
     "name": "#%%\n"
    }
   }
  },
  {
   "cell_type": "code",
   "execution_count": 548,
   "outputs": [
    {
     "name": "stdout",
     "output_type": "stream",
     "text": [
      "[5. 5.]\n"
     ]
    }
   ],
   "source": [
    "def yRegression(B, X):\n",
    "    return np.sum(X * B)\n",
    "\n",
    "B_reg = []\n",
    "for i in range(N + 1):\n",
    "    bi = random.randint(-maxValue, maxValue)\n",
    "    B_reg.append(bi)\n",
    "B_reg = np.array(B_reg, dtype='float64')\n",
    "print(B_reg)\n",
    "XM = []\n",
    "YM = []\n",
    "YR = []\n",
    "for i in range(M):\n",
    "    X = [1]\n",
    "    for j in range(N):\n",
    "        X.append(i)\n",
    "    X = np.array(X)\n",
    "    rand_delta = random.randint(-maxValue, maxValue)\n",
    "    Y_act = yRegression(B_reg, X) + 0.5 * rand_delta\n",
    "    YM.append(Y_act)\n",
    "    XM.append(np.array(X))\n",
    "XM = np.array(XM, dtype='float64')\n",
    "YM = np.array(YM)\n",
    "\n",
    "def runSGD(typeOfOptimisation, withNormalization):\n",
    "    B_start = np.array([0] * (N + 1), dtype='float64')\n",
    "    YR = np.array([0] * M, dtype='float64')\n",
    "    if withNormalization:\n",
    "        X_norm = ZNormalization(XM)\n",
    "        Y_norm = (YM - np.mean(YM)) / np.std(YM)\n",
    "        BA_start = (B_reg - np.mean(B_reg)) / np.std(B_reg)\n",
    "        BF_norm, \\\n",
    "        errors_norm, \\\n",
    "        YF_norm, \\\n",
    "        iterations = gradientDescent(1,\n",
    "                                     X_norm,\n",
    "                                     Y_norm,\n",
    "                                     YR,\n",
    "                                     B_start,\n",
    "                                     TypeOfOptimisation.none,\n",
    "                                     withNormalization=False)\n",
    "\n",
    "        print(errors_norm[0], errors_norm[len(errors_norm) - 1])\n",
    "        print(\"actual coefficients:     \", BA_start)\n",
    "        print(\"calculated coefficients: \", BF_norm)\n",
    "        print(\"number of iterations:    \", iterations)\n",
    "        drawGraph(X_norm, Y_norm, YF_norm)\n",
    "    else:\n",
    "        B_final, \\\n",
    "        errors, \\\n",
    "        YF, \\\n",
    "        iterations = gradientDescent(1,\n",
    "                                     XM,\n",
    "                                     YM,\n",
    "                                     YR,\n",
    "                                     B_start,\n",
    "                                     typeOfOptimisation,\n",
    "                                     withNormalization=True)\n",
    "\n",
    "        print(errors[0], errors[len(errors) - 1])\n",
    "        print(\"actual coefficients:     \", B_reg)\n",
    "        print(\"calculated coefficients: \", B_final)\n",
    "        print(\"number of iterations:    \", iterations)\n",
    "        drawGraph(XM, YM, YF)"
   ],
   "metadata": {
    "collapsed": false,
    "pycharm": {
     "name": "#%%\n"
    }
   }
  },
  {
   "cell_type": "code",
   "execution_count": 549,
   "outputs": [
    {
     "ename": "KeyboardInterrupt",
     "evalue": "",
     "output_type": "error",
     "traceback": [
      "\u001B[0;31m---------------------------------------------------------------------------\u001B[0m",
      "\u001B[0;31mKeyboardInterrupt\u001B[0m                         Traceback (most recent call last)",
      "Input \u001B[0;32mIn [549]\u001B[0m, in \u001B[0;36m<cell line: 63>\u001B[0;34m()\u001B[0m\n\u001B[1;32m     60\u001B[0m     plt\u001B[38;5;241m.\u001B[39mplot(X, YF, color\u001B[38;5;241m=\u001B[39m\u001B[38;5;124m'\u001B[39m\u001B[38;5;124mred\u001B[39m\u001B[38;5;124m'\u001B[39m)\n\u001B[1;32m     61\u001B[0m     plt\u001B[38;5;241m.\u001B[39mshow()\n\u001B[0;32m---> 63\u001B[0m \u001B[43mrunSGD\u001B[49m\u001B[43m(\u001B[49m\u001B[43mTypeOfOptimisation\u001B[49m\u001B[38;5;241;43m.\u001B[39;49m\u001B[43mnone\u001B[49m\u001B[43m,\u001B[49m\u001B[43m \u001B[49m\u001B[43mwithNormalization\u001B[49m\u001B[38;5;241;43m=\u001B[39;49m\u001B[38;5;28;43;01mFalse\u001B[39;49;00m\u001B[43m)\u001B[49m\n",
      "Input \u001B[0;32mIn [548]\u001B[0m, in \u001B[0;36mrunSGD\u001B[0;34m(typeOfOptimisation, withNormalization)\u001B[0m\n\u001B[1;32m     47\u001B[0m     drawGraph(X_norm, Y_norm, YF_norm)\n\u001B[1;32m     48\u001B[0m \u001B[38;5;28;01melse\u001B[39;00m:\n\u001B[1;32m     49\u001B[0m     B_final, \\\n\u001B[1;32m     50\u001B[0m     errors, \\\n\u001B[1;32m     51\u001B[0m     YF, \\\n\u001B[0;32m---> 52\u001B[0m     iterations \u001B[38;5;241m=\u001B[39m \u001B[43mgradientDescent\u001B[49m\u001B[43m(\u001B[49m\u001B[38;5;241;43m1\u001B[39;49m\u001B[43m,\u001B[49m\n\u001B[1;32m     53\u001B[0m \u001B[43m                                 \u001B[49m\u001B[43mXM\u001B[49m\u001B[43m,\u001B[49m\n\u001B[1;32m     54\u001B[0m \u001B[43m                                 \u001B[49m\u001B[43mYM\u001B[49m\u001B[43m,\u001B[49m\n\u001B[1;32m     55\u001B[0m \u001B[43m                                 \u001B[49m\u001B[43mYR\u001B[49m\u001B[43m,\u001B[49m\n\u001B[1;32m     56\u001B[0m \u001B[43m                                 \u001B[49m\u001B[43mB_start\u001B[49m\u001B[43m,\u001B[49m\n\u001B[1;32m     57\u001B[0m \u001B[43m                                 \u001B[49m\u001B[43mtypeOfOptimisation\u001B[49m\u001B[43m,\u001B[49m\n\u001B[1;32m     58\u001B[0m \u001B[43m                                 \u001B[49m\u001B[43mwithNormalization\u001B[49m\u001B[38;5;241;43m=\u001B[39;49m\u001B[38;5;28;43;01mTrue\u001B[39;49;00m\u001B[43m)\u001B[49m\n\u001B[1;32m     60\u001B[0m     \u001B[38;5;28mprint\u001B[39m(errors[\u001B[38;5;241m0\u001B[39m], errors[\u001B[38;5;28mlen\u001B[39m(errors) \u001B[38;5;241m-\u001B[39m \u001B[38;5;241m1\u001B[39m])\n\u001B[1;32m     61\u001B[0m     \u001B[38;5;28mprint\u001B[39m(\u001B[38;5;124m\"\u001B[39m\u001B[38;5;124mactual coefficients:     \u001B[39m\u001B[38;5;124m\"\u001B[39m, B_reg)\n",
      "Input \u001B[0;32mIn [549]\u001B[0m, in \u001B[0;36mgradientDescent\u001B[0;34m(batch, XM, YM, YR, B_reg, typeOfOptimisation, withNormalization)\u001B[0m\n\u001B[1;32m     43\u001B[0m B_reg \u001B[38;5;241m-\u001B[39m\u001B[38;5;241m=\u001B[39m k \u001B[38;5;241m*\u001B[39m grad\n\u001B[1;32m     45\u001B[0m \u001B[38;5;28;01mfor\u001B[39;00m i \u001B[38;5;129;01min\u001B[39;00m \u001B[38;5;28mrange\u001B[39m(M):\n\u001B[0;32m---> 46\u001B[0m     YR[i] \u001B[38;5;241m=\u001B[39m \u001B[43myRegression\u001B[49m\u001B[43m(\u001B[49m\u001B[43mB_reg\u001B[49m\u001B[43m,\u001B[49m\u001B[43m \u001B[49m\u001B[43mXM\u001B[49m\u001B[43m[\u001B[49m\u001B[43mi\u001B[49m\u001B[43m]\u001B[49m\u001B[43m)\u001B[49m\n\u001B[1;32m     47\u001B[0m \u001B[38;5;28;01mif\u001B[39;00m stoppingCriteria(previousError, squaredError(YM, YR), withNormalization):\n\u001B[1;32m     48\u001B[0m     \u001B[38;5;28;01mbreak\u001B[39;00m\n",
      "Input \u001B[0;32mIn [548]\u001B[0m, in \u001B[0;36myRegression\u001B[0;34m(B, X)\u001B[0m\n\u001B[1;32m      1\u001B[0m \u001B[38;5;28;01mdef\u001B[39;00m \u001B[38;5;21myRegression\u001B[39m(B, X):\n\u001B[0;32m----> 2\u001B[0m     \u001B[38;5;28;01mreturn\u001B[39;00m \u001B[43mnp\u001B[49m\u001B[38;5;241;43m.\u001B[39;49m\u001B[43msum\u001B[49m\u001B[43m(\u001B[49m\u001B[43mX\u001B[49m\u001B[43m \u001B[49m\u001B[38;5;241;43m*\u001B[39;49m\u001B[43m \u001B[49m\u001B[43mB\u001B[49m\u001B[43m)\u001B[49m\n",
      "File \u001B[0;32m<__array_function__ internals>:180\u001B[0m, in \u001B[0;36msum\u001B[0;34m(*args, **kwargs)\u001B[0m\n",
      "File \u001B[0;32m~/Downloads/solverTT-3000/venv/lib/python3.8/site-packages/numpy/core/fromnumeric.py:2296\u001B[0m, in \u001B[0;36msum\u001B[0;34m(a, axis, dtype, out, keepdims, initial, where)\u001B[0m\n\u001B[1;32m   2293\u001B[0m         \u001B[38;5;28;01mreturn\u001B[39;00m out\n\u001B[1;32m   2294\u001B[0m     \u001B[38;5;28;01mreturn\u001B[39;00m res\n\u001B[0;32m-> 2296\u001B[0m \u001B[38;5;28;01mreturn\u001B[39;00m \u001B[43m_wrapreduction\u001B[49m\u001B[43m(\u001B[49m\u001B[43ma\u001B[49m\u001B[43m,\u001B[49m\u001B[43m \u001B[49m\u001B[43mnp\u001B[49m\u001B[38;5;241;43m.\u001B[39;49m\u001B[43madd\u001B[49m\u001B[43m,\u001B[49m\u001B[43m \u001B[49m\u001B[38;5;124;43m'\u001B[39;49m\u001B[38;5;124;43msum\u001B[39;49m\u001B[38;5;124;43m'\u001B[39;49m\u001B[43m,\u001B[49m\u001B[43m \u001B[49m\u001B[43maxis\u001B[49m\u001B[43m,\u001B[49m\u001B[43m \u001B[49m\u001B[43mdtype\u001B[49m\u001B[43m,\u001B[49m\u001B[43m \u001B[49m\u001B[43mout\u001B[49m\u001B[43m,\u001B[49m\u001B[43m \u001B[49m\u001B[43mkeepdims\u001B[49m\u001B[38;5;241;43m=\u001B[39;49m\u001B[43mkeepdims\u001B[49m\u001B[43m,\u001B[49m\n\u001B[1;32m   2297\u001B[0m \u001B[43m                      \u001B[49m\u001B[43minitial\u001B[49m\u001B[38;5;241;43m=\u001B[39;49m\u001B[43minitial\u001B[49m\u001B[43m,\u001B[49m\u001B[43m \u001B[49m\u001B[43mwhere\u001B[49m\u001B[38;5;241;43m=\u001B[39;49m\u001B[43mwhere\u001B[49m\u001B[43m)\u001B[49m\n",
      "File \u001B[0;32m~/Downloads/solverTT-3000/venv/lib/python3.8/site-packages/numpy/core/fromnumeric.py:86\u001B[0m, in \u001B[0;36m_wrapreduction\u001B[0;34m(obj, ufunc, method, axis, dtype, out, **kwargs)\u001B[0m\n\u001B[1;32m     83\u001B[0m         \u001B[38;5;28;01melse\u001B[39;00m:\n\u001B[1;32m     84\u001B[0m             \u001B[38;5;28;01mreturn\u001B[39;00m reduction(axis\u001B[38;5;241m=\u001B[39maxis, out\u001B[38;5;241m=\u001B[39mout, \u001B[38;5;241m*\u001B[39m\u001B[38;5;241m*\u001B[39mpasskwargs)\n\u001B[0;32m---> 86\u001B[0m \u001B[38;5;28;01mreturn\u001B[39;00m \u001B[43mufunc\u001B[49m\u001B[38;5;241;43m.\u001B[39;49m\u001B[43mreduce\u001B[49m\u001B[43m(\u001B[49m\u001B[43mobj\u001B[49m\u001B[43m,\u001B[49m\u001B[43m \u001B[49m\u001B[43maxis\u001B[49m\u001B[43m,\u001B[49m\u001B[43m \u001B[49m\u001B[43mdtype\u001B[49m\u001B[43m,\u001B[49m\u001B[43m \u001B[49m\u001B[43mout\u001B[49m\u001B[43m,\u001B[49m\u001B[43m \u001B[49m\u001B[38;5;241;43m*\u001B[39;49m\u001B[38;5;241;43m*\u001B[39;49m\u001B[43mpasskwargs\u001B[49m\u001B[43m)\u001B[49m\n",
      "\u001B[0;31mKeyboardInterrupt\u001B[0m: "
     ]
    }
   ],
   "source": [
    "def squaredError(Y_act, Y_reg):\n",
    "    return np.sum((Y_act - Y_reg)**2) / M\n",
    "\n",
    "def stoppingCriteria(previous, current, withNormalization):\n",
    "    if withNormalization:\n",
    "        eps = EPS * 1e-3\n",
    "    else:\n",
    "        eps = EPS\n",
    "    return abs(previous - current) < eps\n",
    "\n",
    "def gradient(nums, XM, YR, YM):\n",
    "    grad = []\n",
    "    for i in range(N + 1):\n",
    "        xi = 0\n",
    "        for j in range(len(nums)):\n",
    "            xi += XM[nums[j]][i] * (YR[nums[j]] - YM[nums[j]])\n",
    "        xi *= 2\n",
    "        grad.append(xi)\n",
    "    return np.array(grad)\n",
    "\n",
    "def gradientDescent(batch, XM, YM, YR, B_reg, typeOfOptimisation, withNormalization):\n",
    "    previousError = 0\n",
    "    previousGradient = np.array([0] * (N + 1))\n",
    "    errors = []\n",
    "    iterations = 0\n",
    "    while True:\n",
    "        nums = set()\n",
    "        while len(nums) != batch:\n",
    "            x = random.randint(0, M - 1)\n",
    "            if x not in nums:\n",
    "                nums.add(x)\n",
    "\n",
    "        nums = np.array(list(nums))\n",
    "        grad = gradient(nums, XM, YR, YM)\n",
    "\n",
    "        if typeOfOptimisation == TypeOfOptimisation.momentum:\n",
    "            grad += gamma * previousGradient\n",
    "\n",
    "        if withNormalization:\n",
    "            k = K * 2\n",
    "        else:\n",
    "            k = K\n",
    "        B_reg -= k * grad\n",
    "\n",
    "        for i in range(M):\n",
    "            YR[i] = yRegression(B_reg, XM[i])\n",
    "        if stoppingCriteria(previousError, squaredError(YM, YR), withNormalization):\n",
    "            break\n",
    "        previousError = squaredError(YM, YR)\n",
    "        previousGradient = grad\n",
    "        errors.append(previousError)\n",
    "        iterations += 1\n",
    "    return B_reg, errors, YR, iterations\n",
    "\n",
    "def drawGraph(XM, YM, YF):\n",
    "    fig = plt.figure()\n",
    "    fig.set_size_inches(10, 10)\n",
    "    X = XM.T[1]\n",
    "    plt.scatter(X, YM)\n",
    "    plt.plot(X, YF, color='red')\n",
    "    plt.show()\n",
    "\n",
    "runSGD(TypeOfOptimisation.none, withNormalization=False)"
   ],
   "metadata": {
    "collapsed": false,
    "pycharm": {
     "name": "#%%\n"
    }
   }
  },
  {
   "cell_type": "markdown",
   "source": [
    "# Задание 2"
   ],
   "metadata": {
    "collapsed": false,
    "pycharm": {
     "name": "#%% md\n"
    }
   }
  },
  {
   "cell_type": "code",
   "execution_count": null,
   "outputs": [],
   "source": [
    "def ZNormalization(XM):\n",
    "    X = XM.T\n",
    "    for i in range(1, N + 1):\n",
    "        X[i] = (X[i] - np.mean(X[i])) / np.std(X[i])\n",
    "    return X.T\n",
    "\n",
    "# print(XM)\n",
    "runSGD(TypeOfOptimisation.none, withNormalization=True)"
   ],
   "metadata": {
    "collapsed": false,
    "pycharm": {
     "name": "#%%\n"
    }
   }
  },
  {
   "cell_type": "markdown",
   "source": [
    "# Задание 3\n",
    "\n",
    "### Метод моментов"
   ],
   "metadata": {
    "collapsed": false,
    "pycharm": {
     "name": "#%% md\n"
    }
   }
  },
  {
   "cell_type": "code",
   "execution_count": null,
   "outputs": [],
   "source": [
    "gamma = 0.9\n",
    "\n",
    "runSGD(TypeOfOptimisation.momentum, withNormalization=False)\n",
    "runSGD(TypeOfOptimisation.momentum, withNormalization=True)\n"
   ],
   "metadata": {
    "collapsed": false,
    "pycharm": {
     "name": "#%%\n"
    }
   }
  }
 ],
 "metadata": {
  "kernelspec": {
   "display_name": "Python 3",
   "language": "python",
   "name": "python3"
  },
  "language_info": {
   "codemirror_mode": {
    "name": "ipython",
    "version": 2
   },
   "file_extension": ".py",
   "mimetype": "text/x-python",
   "name": "python",
   "nbconvert_exporter": "python",
   "pygments_lexer": "ipython2",
   "version": "2.7.6"
  }
 },
 "nbformat": 4,
 "nbformat_minor": 0
}