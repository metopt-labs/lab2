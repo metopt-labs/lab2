{
 "cells": [
  {
   "cell_type": "code",
   "execution_count": 430,
   "metadata": {
    "collapsed": true
   },
   "outputs": [],
   "source": [
    "import numpy as np\n",
    "import matplotlib.pyplot as plt\n",
    "import random"
   ]
  },
  {
   "cell_type": "markdown",
   "source": [
    "# Задание 1\n",
    "\n",
    "Решить линейную регрессию — найти прямую, которая описывает зависимость"
   ],
   "metadata": {
    "collapsed": false,
    "pycharm": {
     "name": "#%% md\n"
    }
   }
  },
  {
   "cell_type": "markdown",
   "source": [
    "N - количество осей (размерность) <br>\n",
    "M - количество точек <br>\n",
    "minValue - минимальное значение для иксов <br>\n",
    "maxValue - максимальное значение для иксов"
   ],
   "metadata": {
    "collapsed": false,
    "pycharm": {
     "name": "#%% md\n"
    }
   }
  },
  {
   "cell_type": "code",
   "execution_count": 431,
   "outputs": [],
   "source": [
    "N = 1\n",
    "M = 10\n",
    "minValue = 0\n",
    "maxValue = 10\n",
    "STEPS = 1e3\n",
    "EPS = 1e-6\n",
    "K = 1e-2\n"
   ],
   "metadata": {
    "collapsed": false,
    "pycharm": {
     "name": "#%%\n"
    }
   }
  },
  {
   "cell_type": "code",
   "execution_count": 432,
   "outputs": [
    {
     "name": "stdout",
     "output_type": "stream",
     "text": [
      "[ 5. 10.]\n",
      "[[1 8]\n",
      " [1 1]\n",
      " [1 4]\n",
      " [1 7]\n",
      " [1 9]\n",
      " [1 6]\n",
      " [1 9]\n",
      " [1 8]\n",
      " [1 0]\n",
      " [1 1]]\n",
      "[ 64.   6.  10.  65.  87. 113. 101. 112.  41.  15.]\n",
      "[85. 15. 45. 75. 95. 65. 95. 85.  5. 15.]\n"
     ]
    }
   ],
   "source": [
    "def yRegression(B, X):\n",
    "    return np.sum(X * B)\n",
    "\n",
    "B_reg = []\n",
    "for i in range(N + 1):\n",
    "    bi = random.randint(minValue, maxValue)\n",
    "    B_reg.append(bi)\n",
    "B_reg = np.array(B_reg, dtype='float64')\n",
    "print(B_reg)\n",
    "XM = []\n",
    "YM = []\n",
    "YR = []\n",
    "for i in range(M):\n",
    "    X = [1]\n",
    "    for j in range(N):\n",
    "        xj = random.randint(minValue, maxValue)\n",
    "        X.append(xj)\n",
    "    X = np.array(X)\n",
    "    rand_delta = random.randint(-maxValue, maxValue)\n",
    "    Y_r = yRegression(B_reg, X)\n",
    "    Y_act = Y_r + random.randint(0, 10) * rand_delta\n",
    "    YM.append(Y_act)\n",
    "    XM.append(np.array(X))\n",
    "    YR.append(Y_r)\n",
    "XM = np.array(XM)\n",
    "YM = np.array(YM)\n",
    "YR = np.array(YR)\n",
    "print(XM)\n",
    "print(YM)\n",
    "print(YR)"
   ],
   "metadata": {
    "collapsed": false,
    "pycharm": {
     "name": "#%%\n"
    }
   }
  },
  {
   "cell_type": "code",
   "execution_count": 433,
   "outputs": [
    {
     "name": "stdout",
     "output_type": "stream",
     "text": [
      "11558.003999999997 9524.61301844459\n"
     ]
    },
    {
     "data": {
      "text/plain": "<Figure size 720x720 with 1 Axes>",
      "image/png": "[encoded data removed]"
     },
     "metadata": {
      "needs_background": "light"
     },
     "output_type": "display_data"
    }
   ],
   "source": [
    "def squaredError(Y_act, Y_reg):\n",
    "    error = 0\n",
    "    for i in range(M):\n",
    "        error += (Y_act[i] - Y_reg[i]) ** 2\n",
    "    return error\n",
    "\n",
    "def stoppingCriteria(previous, current):\n",
    "    return abs(previous - current) < EPS\n",
    "\n",
    "def gradient(nums, XM, YR, YM):\n",
    "    grad = []\n",
    "    for i in range(N + 1):\n",
    "        xi = 0\n",
    "        for j in range(len(nums)):\n",
    "            xi += XM[nums[j]][i] * (YR[nums[j]] - YM[nums[j]])\n",
    "        xi *= 2\n",
    "        grad.append(xi)\n",
    "    return np.array(grad)\n",
    "\n",
    "def gradientDescent(batch, XM, YM, YR, B_reg):\n",
    "    previous = 0\n",
    "    errors = []\n",
    "    while True:\n",
    "        nums = set()\n",
    "        while len(nums) != batch:\n",
    "            x = random.randint(0, N - 1)\n",
    "            if x not in nums:\n",
    "                nums.add(x)\n",
    "\n",
    "        nums = np.array(list(nums))\n",
    "        grad = gradient(nums, XM, YR, YM)\n",
    "        B_reg -= K * grad\n",
    "        for i in range(M):\n",
    "            YR[i] = yRegression(B_reg, XM[i])\n",
    "        if stoppingCriteria(previous, squaredError(YM, YR)):\n",
    "            break\n",
    "        previous = squaredError(YM, YR)\n",
    "        errors.append(previous)\n",
    "    return B_reg, errors\n",
    "\n",
    "def drawGraph(XM, YM, YF):\n",
    "    fig = plt.figure()\n",
    "    fig.set_size_inches(10, 10)\n",
    "    X = XM.T[1]\n",
    "    plt.scatter(X, YM)\n",
    "    plt.plot(X, YF)\n",
    "    plt.show()\n",
    "\n",
    "B_final, errors = gradientDescent(1, XM, YM, YR, B_reg)\n",
    "YF = []\n",
    "for i in range(M):\n",
    "    y_fi = yRegression(B_final, XM[i])\n",
    "    YF.append(y_fi)\n",
    "\n",
    "print(errors[0], errors[len(errors) - 1])\n",
    "drawGraph(XM, YM, YF)"
   ],
   "metadata": {
    "collapsed": false,
    "pycharm": {
     "name": "#%%\n"
    }
   }
  },
  {
   "cell_type": "markdown",
   "source": [
    "# Задание 2\n",
    "\n"
   ],
   "metadata": {
    "collapsed": false,
    "pycharm": {
     "name": "#%% md\n"
    }
   }
  }
 ],
 "metadata": {
  "kernelspec": {
   "display_name": "Python 3",
   "language": "python",
   "name": "python3"
  },
  "language_info": {
   "codemirror_mode": {
    "name": "ipython",
    "version": 2
   },
   "file_extension": ".py",
   "mimetype": "text/x-python",
   "name": "python",
   "nbconvert_exporter": "python",
   "pygments_lexer": "ipython2",
   "version": "2.7.6"
  }
 },
 "nbformat": 4,
 "nbformat_minor": 0
}