{
 "cells": [
  {
   "cell_type": "code",
   "execution_count": 18,
   "metadata": {
    "collapsed": true
   },
   "outputs": [],
   "source": [
    "import numpy as np\n",
    "import matplotlib.pyplot as plt\n",
    "import random"
   ]
  },
  {
   "cell_type": "markdown",
   "source": [
    "# Задание 1\n",
    "\n",
    "Решить линейную регрессию — найти прямую, которая описывает зависимость"
   ],
   "metadata": {
    "collapsed": false,
    "pycharm": {
     "name": "#%% md\n"
    }
   }
  },
  {
   "cell_type": "markdown",
   "source": [
    "N - количество осей (размерность) <br>\n",
    "M - количество точек <br>\n",
    "minValue - минимальное значение для иксов <br>\n",
    "maxValue - максимальное значение для иксов"
   ],
   "metadata": {
    "collapsed": false,
    "pycharm": {
     "name": "#%% md\n"
    }
   }
  },
  {
   "cell_type": "code",
   "execution_count": 25,
   "outputs": [],
   "source": [
    "N = 2\n",
    "M = 10\n",
    "minValue = 0\n",
    "maxValue = 10\n",
    "STEPS = 1e3\n"
   ],
   "metadata": {
    "collapsed": false,
    "pycharm": {
     "name": "#%%\n"
    }
   }
  },
  {
   "cell_type": "code",
   "execution_count": 28,
   "outputs": [
    {
     "name": "stdout",
     "output_type": "stream",
     "text": [
      "[4 7]\n",
      "[[array([3, 3]) 33]\n",
      " [array([6, 5]) 59]\n",
      " [array([4, 7]) 65]\n",
      " [array([4, 1]) 23]\n",
      " [array([3, 6]) 54]\n",
      " [array([3, 8]) 68]\n",
      " [array([9, 6]) 78]\n",
      " [array([5, 1]) 27]\n",
      " [array([9, 3]) 57]\n",
      " [array([7, 3]) 49]]\n"
     ]
    },
    {
     "name": "stderr",
     "output_type": "stream",
     "text": [
      "/var/folders/jf/t98pfdyj3496cy7sfv395_j80000gn/T/ipykernel_5171/704093257.py:15: VisibleDeprecationWarning: Creating an ndarray from ragged nested sequences (which is a list-or-tuple of lists-or-tuples-or ndarrays with different lengths or shapes) is deprecated. If you meant to do this, you must specify 'dtype=object' when creating the ndarray.\n",
      "  XM.append(np.array([X, Y]))\n"
     ]
    }
   ],
   "source": [
    "b0_act = random.randint(minValue, maxValue)\n",
    "B_act = []\n",
    "for i in range(N):\n",
    "    bi = random.randint(minValue, maxValue)\n",
    "    B_act.append(bi)\n",
    "B_act = np.array(B_act)                     # B - actual coefficients of function\n",
    "print(B_act)\n",
    "XM = []\n",
    "for i in range(M):\n",
    "    X = []\n",
    "    for j in range(N):\n",
    "        xj = random.randint(minValue, maxValue)\n",
    "        X.append(xj)\n",
    "    X = np.array(X)                         # X - random values of variables\n",
    "    Y_act = b0_act + X.T * B_act            # Y - actual values of function\n",
    "    XM.append(np.array([X, Y_act]))\n",
    "XM = np.array(XM)                           # XM - array of points\n",
    "print(XM)"
   ],
   "metadata": {
    "collapsed": false,
    "pycharm": {
     "name": "#%%\n"
    }
   }
  },
  {
   "cell_type": "code",
   "execution_count": 20,
   "outputs": [],
   "source": [
    "def yRegression(b0, B, X):\n",
    "    return b0 + X.T * B\n",
    "\n",
    "def squaredError(Y_act, Y_reg):\n",
    "    error = 0\n",
    "    for i in range(M):\n",
    "        error += (Y_act[i] - Y_reg[i])**2\n",
    "    return error\n",
    "\n",
    "def gradientDescent(batch, XM, b0, B_reg):\n",
    "    currentSteps = 0\n",
    "    while currentSteps < STEPS:\n",
    "        if batch == 1:\n",
    "            for i in range(M):\n",
    "                X = XM[i][0]\n",
    "                Y_act = XM[i][1]\n",
    "                Y_reg = yRegression(b0, B_reg, X)\n",
    "                E = squaredError(Y_act, Y_reg)\n",
    "        elif batch == M:\n",
    "\n",
    "        else:\n",
    "    currentSteps += 1"
   ],
   "metadata": {
    "collapsed": false,
    "pycharm": {
     "name": "#%%\n"
    }
   }
  }
 ],
 "metadata": {
  "kernelspec": {
   "display_name": "Python 3",
   "language": "python",
   "name": "python3"
  },
  "language_info": {
   "codemirror_mode": {
    "name": "ipython",
    "version": 2
   },
   "file_extension": ".py",
   "mimetype": "text/x-python",
   "name": "python",
   "nbconvert_exporter": "python",
   "pygments_lexer": "ipython2",
   "version": "2.7.6"
  }
 },
 "nbformat": 4,
 "nbformat_minor": 0
}